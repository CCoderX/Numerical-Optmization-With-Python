{
 "cells": [
  {
   "cell_type": "markdown",
   "metadata": {
    "id": "5uIc54YBL8ZF"
   },
   "source": [
    "## Practical Work 4"
   ]
  },
  {
   "cell_type": "markdown",
   "metadata": {
    "id": "VQJ48dEBL8ZP"
   },
   "source": [
    "For this practical work, the student will have to develop a Python program that is able to implement the accelerated gradient descent methods with adaptive learning rate <b>(Adagrad, RMSProp, and Adam)</b> in order to achieve the linear regression of a set of datapoints."
   ]
  },
  {
   "cell_type": "markdown",
   "metadata": {
    "id": "KUfb0GwAL8ZW"
   },
   "source": [
    "#### Import numpy, matplotlib.pyplot and make it inline"
   ]
  },
  {
   "cell_type": "code",
   "execution_count": 1,
   "metadata": {
    "id": "7N1Z-AO_L8Za"
   },
   "outputs": [],
   "source": [
    "import numpy as np\n",
    "import  matplotlib.pyplot as plt\n",
    "from sklearn.metrics import r2_score"
   ]
  },
  {
   "cell_type": "markdown",
   "metadata": {
    "id": "wi73MtGXL8Zb"
   },
   "source": [
    "To have a dataset or set of data points, the student must generate a pair of arrays <b>X</b> and <b>y</b> with the values in <b>X</b> equally distributed between <b>0</b> and <b>20</b> and the values in <b>y</b> such that: \n",
    "<b>yi = a*xi + b (and a = -1, b = 2)</b>\n"
   ]
  },
  {
   "cell_type": "code",
   "execution_count": 2,
   "metadata": {
    "id": "jHHUzfApL8Zd"
   },
   "outputs": [],
   "source": [
    "x=np.linspace(0,20,50)"
   ]
  },
  {
   "cell_type": "code",
   "execution_count": 3,
   "metadata": {
    "id": "g0TDQsMEL8Zg"
   },
   "outputs": [],
   "source": [
    "y = -1*x + 2"
   ]
  },
  {
   "cell_type": "markdown",
   "metadata": {
    "id": "pb_kffcIL8Zh"
   },
   "source": [
    "#### Plot your data points. "
   ]
  },
  {
   "cell_type": "code",
   "execution_count": 4,
   "metadata": {
    "id": "FELKon0AL8Zx",
    "scrolled": false
   },
   "outputs": [
    {
     "data": {
      "text/plain": [
       "<matplotlib.collections.PathCollection at 0x20d3488fb20>"
      ]
     },
     "execution_count": 4,
     "metadata": {},
     "output_type": "execute_result"
    },
    {
     "data": {
      "image/png": "[encoded data removed]",
      "text/plain": [
       "<Figure size 432x288 with 1 Axes>"
      ]
     },
     "metadata": {
      "needs_background": "light"
     },
     "output_type": "display_data"
    }
   ],
   "source": [
    "plt.scatter(x,y)"
   ]
  },
  {
   "cell_type": "markdown",
   "metadata": {
    "id": "-MU4FLs_L8Z1"
   },
   "source": [
    "## Adagrad"
   ]
  },
  {
   "cell_type": "markdown",
   "metadata": {
    "id": "8C0VRSlqL8Z3"
   },
   "source": [
    "### For a single variable linear regression ML model, build a function to find the optimum Theta_0 and Theta_1 parameters using Adagrad optimization algorithm.\n",
    "#### The funtion should have the following input parameters:\n",
    "##### 1. Input data as a matrix (or vector based on your data).\n",
    "##### 2. Target label as a vector.\n",
    "##### 3. Learning rate.\n",
    "##### 4. Epsilon.\n",
    "##### 5. Maximum number of iterations (Epochs).\n",
    "#### The funtion should return the following outputs:\n",
    "##### 1. All predicted Theta_0 in all iterations.\n",
    "##### 2. All predicted Theta_1 in all iterations.\n",
    "##### 3. Corresponding loss for each Theta_0 and Theta_1 predictions.\n",
    "##### 4.All hypothesis outputs (prdicted labels) for each Theta_0 and Theta_1 predictions.\n",
    "##### 5.Final Optimum values of Theta_0 and Theta_1.\n",
    "#### Choose the suitable number of iterations, learning rate, Epsilon, and stop criteria.\n",
    "#### Calculate r2 score. Shouldn't below 0.9\n",
    "#### Plot the required curves (loss-epochs, loss-theta0, loss-theta1, all fitted lines per epoch (single graph), best fit line)\n",
    "#### Try different values of the huperparameters and see the differnce in your results."
   ]
  },
  {
   "cell_type": "markdown",
   "metadata": {
    "id": "tsxFvXVNL8Z5"
   },
   "source": [
    "![image.png](attachment:image.png)"
   ]
  },
  {
   "cell_type": "code",
   "execution_count": 5,
   "metadata": {
    "id": "yDYzVKD5L8Z7"
   },
   "outputs": [],
   "source": [
    "def adagrad(x,y,e=0.001,alpha=0.001,beta = 0.8,iterations=500,min_gradient = 0.1):\n",
    "    _x = np.c_[np.ones(x.shape[0]), x]\n",
    "    theta = np.zeros(_x.shape[1])\n",
    "    vt = np.zeros(_x.shape[1])\n",
    "    predictions = []\n",
    "    losses = []\n",
    "    thetas = []\n",
    "#     thetas.append(theta)\n",
    "    for i in range(iterations):\n",
    "        pred = np.dot(_x,theta)\n",
    "        predictions.append(np.array(pred))\n",
    "        error = pred-y\n",
    "        gradient = (1/len(_x)) * np.dot(_x.T, error)\n",
    "        #stopping condition for low gradient\n",
    "        if gradient.all() < min_gradient:\n",
    "            break\n",
    "        vt = beta*vt + (1-beta)* gradient**2\n",
    "        theta -= (alpha/(vt**0.5)+e) * gradient\n",
    "#         print(theta)\n",
    "        thetas.append(np.array(theta))\n",
    "        loss = 1/(2*len(_x)) * np.dot(error.T, error)\n",
    "        losses.append(np.array(loss))\n",
    "    return np.array(thetas),np.array(losses),np.array(predictions)"
   ]
  },
  {
   "cell_type": "code",
   "execution_count": 6,
   "metadata": {
    "id": "gGf3RC6WL8Z9",
    "scrolled": false
   },
   "outputs": [],
   "source": [
    "thetas,losses,predictions = adagrad(x,y,alpha=0.01,beta = 0.8,iterations=500000)"
   ]
  },
  {
   "cell_type": "code",
   "execution_count": 7,
   "metadata": {},
   "outputs": [
    {
     "data": {
      "text/plain": [
       "array([ 1.99497055, -1.00538801])"
      ]
     },
     "execution_count": 7,
     "metadata": {},
     "output_type": "execute_result"
    }
   ],
   "source": [
    "thetas[-1]"
   ]
  },
  {
   "cell_type": "code",
   "execution_count": 8,
   "metadata": {
    "id": "HROR61PXL8aJ"
   },
   "outputs": [
    {
     "data": {
      "text/plain": [
       "[<matplotlib.lines.Line2D at 0x20d35b7d580>]"
      ]
     },
     "execution_count": 8,
     "metadata": {},
     "output_type": "execute_result"
    },
    {
     "data": {
      "image/png": "[encoded data removed]",
      "text/plain": [
       "<Figure size 432x288 with 1 Axes>"
      ]
     },
     "metadata": {
      "needs_background": "light"
     },
     "output_type": "display_data"
    }
   ],
   "source": [
    "plt.plot(losses)"
   ]
  },
  {
   "cell_type": "code",
   "execution_count": 9,
   "metadata": {
    "id": "Du44pWzvL8aK"
   },
   "outputs": [
    {
     "data": {
      "text/plain": [
       "[<matplotlib.lines.Line2D at 0x20d49dfea30>]"
      ]
     },
     "execution_count": 9,
     "metadata": {},
     "output_type": "execute_result"
    },
    {
     "data": {
      "image/png": "[encoded data removed]",
      "text/plain": [
       "<Figure size 432x288 with 1 Axes>"
      ]
     },
     "metadata": {
      "needs_background": "light"
     },
     "output_type": "display_data"
    }
   ],
   "source": [
    "thetas =np.array(thetas)\n",
    "plt.plot(np.arange(len(losses)),thetas[:,0])"
   ]
  },
  {
   "cell_type": "code",
   "execution_count": 10,
   "metadata": {
    "id": "Du44pWzvL8aK"
   },
   "outputs": [
    {
     "data": {
      "text/plain": [
       "[<matplotlib.lines.Line2D at 0x20d361b60d0>]"
      ]
     },
     "execution_count": 10,
     "metadata": {},
     "output_type": "execute_result"
    },
    {
     "data": {
      "image/png": "[encoded data removed]",
      "text/plain": [
       "<Figure size 432x288 with 1 Axes>"
      ]
     },
     "metadata": {
      "needs_background": "light"
     },
     "output_type": "display_data"
    }
   ],
   "source": [
    "thetas =np.array(thetas)\n",
    "plt.plot(np.arange(len(losses)),thetas[:,1])"
   ]
  },
  {
   "cell_type": "code",
   "execution_count": 11,
   "metadata": {
    "scrolled": true
   },
   "outputs": [
    {
     "data": {
      "text/plain": [
       "0.9998709418706144"
      ]
     },
     "execution_count": 11,
     "metadata": {},
     "output_type": "execute_result"
    }
   ],
   "source": [
    "r2_score(y, predictions[-1])"
   ]
  },
  {
   "cell_type": "code",
   "execution_count": 12,
   "metadata": {},
   "outputs": [
    {
     "data": {
      "image/png": "[encoded data removed]",
      "text/plain": [
       "<Figure size 432x288 with 1 Axes>"
      ]
     },
     "metadata": {
      "needs_background": "light"
     },
     "output_type": "display_data"
    }
   ],
   "source": [
    "fig = plt.figure()\n",
    "ax = plt.axes()\n",
    "plt.xlabel('X')\n",
    "plt.ylabel('Y')\n",
    "x_plot = np.c_[np.ones(x.shape[0]), x] \n",
    "plt.scatter(x, y, color='red')\n",
    "line, = ax.plot([], [], lw=2)\n",
    "annotation = ax.text(-1, 700000, '')\n",
    "annotation.set_animated(True)\n",
    "y = np.dot(x_plot,thetas[-1])#theta[1]*x + theta[0]\n",
    "line.set_data(x, y)\n",
    "plt.show()"
   ]
  },
  {
   "cell_type": "markdown",
   "metadata": {
    "id": "ABR-_eJXL8aM"
   },
   "source": [
    "## RMSProp"
   ]
  },
  {
   "cell_type": "markdown",
   "metadata": {
    "id": "r65qQJ94L8aO"
   },
   "source": [
    "### Update the previos implementation to be RMSProp.\n",
    "#### Compare your results with Adagrad results."
   ]
  },
  {
   "cell_type": "markdown",
   "metadata": {
    "id": "-ixntNGEL8aP"
   },
   "source": [
    "![image.png](attachment:image.png)"
   ]
  },
  {
   "cell_type": "code",
   "execution_count": 13,
   "metadata": {
    "id": "WJvG93YuL8aP"
   },
   "outputs": [],
   "source": [
    "def rms_prob(x,y,e=0.0001,alpha=0.01,beta=0.7,iterations=10000):\n",
    "    thetas = []\n",
    "    predictions = []\n",
    "    theta = np.zeros(2)\n",
    "    vt = np.zeros(2)\n",
    "    if len(x.shape) > 1:\n",
    "        theta = np.zeros(x.shape[1]+1)\n",
    "        vt = np.zeros(x.shape[1]+1)\n",
    "    \n",
    "    _x = np.c_[np.ones(x.shape[0]), x] \n",
    "    \n",
    "    losses = []\n",
    "    for i in range(iterations):\n",
    "        pred = np.dot(_x,theta)\n",
    "        predictions.append(np.array(pred))\n",
    "#         print(pred)\n",
    "        error = pred-y\n",
    "        gradient = (1/len(_x)) * np.dot(_x.T, error)\n",
    "        \n",
    "        vt = vt*beta + (1-beta)*gradient**2\n",
    "        \n",
    "        theta -= (alpha/(vt**0.5)+e) * gradient\n",
    "        thetas.append(np.array(theta))\n",
    "        loss = 1/(2*len(_x)) * np.dot(error.T, error)\n",
    "        losses.append(np.array(loss))\n",
    "    return np.array(thetas),np.array(losses),np.array(predictions)"
   ]
  },
  {
   "cell_type": "code",
   "execution_count": 14,
   "metadata": {
    "id": "gGf3RC6WL8Z9",
    "scrolled": false
   },
   "outputs": [],
   "source": [
    "thetas,losses,predictions = rms_prob(x,y,alpha=0.005,beta=0.8,iterations=5000)"
   ]
  },
  {
   "cell_type": "code",
   "execution_count": 15,
   "metadata": {},
   "outputs": [
    {
     "data": {
      "text/plain": [
       "array([ 1.99246916, -1.00790622])"
      ]
     },
     "execution_count": 15,
     "metadata": {},
     "output_type": "execute_result"
    }
   ],
   "source": [
    "thetas[-1]"
   ]
  },
  {
   "cell_type": "code",
   "execution_count": 16,
   "metadata": {
    "id": "HROR61PXL8aJ"
   },
   "outputs": [
    {
     "data": {
      "text/plain": [
       "[<matplotlib.lines.Line2D at 0x20d375587c0>]"
      ]
     },
     "execution_count": 16,
     "metadata": {},
     "output_type": "execute_result"
    },
    {
     "data": {
      "image/png": "[encoded data removed]",
      "text/plain": [
       "<Figure size 432x288 with 1 Axes>"
      ]
     },
     "metadata": {
      "needs_background": "light"
     },
     "output_type": "display_data"
    }
   ],
   "source": [
    "plt.plot(np.arange(len(losses)),losses)"
   ]
  },
  {
   "cell_type": "code",
   "execution_count": 17,
   "metadata": {
    "id": "Du44pWzvL8aK"
   },
   "outputs": [
    {
     "data": {
      "text/plain": [
       "[<matplotlib.lines.Line2D at 0x20d3756b940>]"
      ]
     },
     "execution_count": 17,
     "metadata": {},
     "output_type": "execute_result"
    },
    {
     "data": {
      "image/png": "[encoded data removed]",
      "text/plain": [
       "<Figure size 432x288 with 1 Axes>"
      ]
     },
     "metadata": {
      "needs_background": "light"
     },
     "output_type": "display_data"
    }
   ],
   "source": [
    "plt.plot(np.arange(len(losses)),thetas[:,0])"
   ]
  },
  {
   "cell_type": "code",
   "execution_count": 18,
   "metadata": {
    "id": "0AAePlg5L8aL"
   },
   "outputs": [
    {
     "data": {
      "text/plain": [
       "[<matplotlib.lines.Line2D at 0x20d374c1850>]"
      ]
     },
     "execution_count": 18,
     "metadata": {},
     "output_type": "execute_result"
    },
    {
     "data": {
      "image/png": "[encoded data removed]",
      "text/plain": [
       "<Figure size 432x288 with 1 Axes>"
      ]
     },
     "metadata": {
      "needs_background": "light"
     },
     "output_type": "display_data"
    }
   ],
   "source": [
    "plt.plot(np.arange(len(losses)),thetas[:,1])"
   ]
  },
  {
   "cell_type": "code",
   "execution_count": 19,
   "metadata": {
    "scrolled": true
   },
   "outputs": [
    {
     "data": {
      "text/plain": [
       "0.9999718728911577"
      ]
     },
     "execution_count": 19,
     "metadata": {},
     "output_type": "execute_result"
    }
   ],
   "source": [
    "r2_score(y, predictions[-1])"
   ]
  },
  {
   "cell_type": "code",
   "execution_count": 20,
   "metadata": {},
   "outputs": [
    {
     "data": {
      "image/png": "[encoded data removed]",
      "text/plain": [
       "<Figure size 432x288 with 1 Axes>"
      ]
     },
     "metadata": {
      "needs_background": "light"
     },
     "output_type": "display_data"
    }
   ],
   "source": [
    "fig = plt.figure()\n",
    "ax = plt.axes()\n",
    "plt.xlabel('X')\n",
    "plt.ylabel('Y')\n",
    "x_plot = np.c_[np.ones(x.shape[0]), x] \n",
    "plt.scatter(x, y, color='red')\n",
    "line, = ax.plot([], [], lw=2)\n",
    "annotation = ax.text(-1, 700000, '')\n",
    "annotation.set_animated(True)\n",
    "y = np.dot(x_plot,thetas[-1])#theta[1]*x + theta[0]\n",
    "line.set_data(x, y)\n",
    "plt.show()"
   ]
  },
  {
   "cell_type": "markdown",
   "metadata": {
    "id": "5f6e8heiL8aX"
   },
   "source": [
    "## Adam"
   ]
  },
  {
   "cell_type": "markdown",
   "metadata": {
    "id": "BidNqSsjL8aY"
   },
   "source": [
    "### Update the previos implementation to be Adam.\n",
    "#### Compare your results with Adagrad and RMSProp results."
   ]
  },
  {
   "cell_type": "markdown",
   "metadata": {
    "id": "3i5qRXYPL8aZ"
   },
   "source": [
    "![image-4.png](attachment:image-4.png)"
   ]
  },
  {
   "cell_type": "code",
   "execution_count": 21,
   "metadata": {
    "id": "U17WQaJOL8aZ"
   },
   "outputs": [],
   "source": [
    "def adam(x,y,e=0.000000001,alpha=0.001,beta1=0.85,beta2 =0.9,iterations=10000):\n",
    "    thetas = []\n",
    "    predictions = []\n",
    "    theta = np.zeros(2)\n",
    "    vt = np.zeros(2)\n",
    "    mt = np.zeros(2)\n",
    "    if len(x.shape) > 1:\n",
    "        theta = np.zeros(x.shape[1]+1)\n",
    "        vt = np.zeros(x.shape[1]+1)\n",
    "        mt = np.zeros(x.shape[1]+1)\n",
    "        \n",
    "    _x = np.c_[np.ones(x.shape[0]), x] \n",
    "    #these variables willbe used to save beta^t for each beta\n",
    "    _beta1 = beta1\n",
    "    _beta2 = beta2\n",
    "    losses = []\n",
    "    for i in range(1,iterations+1):\n",
    "        pred = np.dot(_x,theta)\n",
    "        predictions.append(np.array(pred))\n",
    "        error = pred-y\n",
    "        gradient = (1/len(_x)) * np.dot(_x.T, error)\n",
    "#         mt/= (1-beta1**i)\n",
    "#         vt/= (1-beta2**i)\n",
    "        mt = vt*beta1 + (1-beta1)*gradient\n",
    "        vt = vt*beta2 + (1-beta2)*(gradient**2)\n",
    "\n",
    "        theta -= (alpha/(vt**0.5)+e) * gradient *mt\n",
    "        thetas.append(np.array(theta))\n",
    "        loss = 1/(2*len(_x)) * np.dot(error.T, error)\n",
    "        losses.append(np.array(loss))\n",
    "        #powering bias correction term\n",
    "#         _beta1*=beta1\n",
    "#         _beta2*=beta2\n",
    "        \n",
    "    return np.array(thetas),np.array(losses),np.array(predictions)"
   ]
  },
  {
   "cell_type": "code",
   "execution_count": 28,
   "metadata": {
    "id": "gGf3RC6WL8Z9",
    "scrolled": false
   },
   "outputs": [],
   "source": [
    "thetas,losses,predictions = adam(x,y,alpha=0.001,beta1=0.9,beta2 =0.99,iterations=100000)"
   ]
  },
  {
   "cell_type": "code",
   "execution_count": 29,
   "metadata": {},
   "outputs": [
    {
     "data": {
      "text/plain": [
       "array([ 1.53356185, -0.97383168])"
      ]
     },
     "execution_count": 29,
     "metadata": {},
     "output_type": "execute_result"
    }
   ],
   "source": [
    "thetas[-1]"
   ]
  },
  {
   "cell_type": "code",
   "execution_count": 30,
   "metadata": {
    "id": "HROR61PXL8aJ"
   },
   "outputs": [
    {
     "data": {
      "text/plain": [
       "[<matplotlib.lines.Line2D at 0x20d388dd7c0>]"
      ]
     },
     "execution_count": 30,
     "metadata": {},
     "output_type": "execute_result"
    },
    {
     "data": {
      "image/png": "[encoded data removed]",
      "text/plain": [
       "<Figure size 432x288 with 1 Axes>"
      ]
     },
     "metadata": {
      "needs_background": "light"
     },
     "output_type": "display_data"
    }
   ],
   "source": [
    "plt.plot(losses)"
   ]
  },
  {
   "cell_type": "code",
   "execution_count": 31,
   "metadata": {
    "id": "Du44pWzvL8aK"
   },
   "outputs": [
    {
     "data": {
      "text/plain": [
       "[<matplotlib.lines.Line2D at 0x20d4091b220>]"
      ]
     },
     "execution_count": 31,
     "metadata": {},
     "output_type": "execute_result"
    },
    {
     "data": {
      "image/png": "[encoded data removed]",
      "text/plain": [
       "<Figure size 432x288 with 1 Axes>"
      ]
     },
     "metadata": {
      "needs_background": "light"
     },
     "output_type": "display_data"
    }
   ],
   "source": [
    "plt.plot(np.arange(len(losses)),thetas[:,0])"
   ]
  },
  {
   "cell_type": "code",
   "execution_count": 32,
   "metadata": {
    "id": "0AAePlg5L8aL"
   },
   "outputs": [
    {
     "data": {
      "text/plain": [
       "[<matplotlib.lines.Line2D at 0x20d361cfbb0>]"
      ]
     },
     "execution_count": 32,
     "metadata": {},
     "output_type": "execute_result"
    },
    {
     "data": {
      "image/png": "[encoded data removed]",
      "text/plain": [
       "<Figure size 432x288 with 1 Axes>"
      ]
     },
     "metadata": {
      "needs_background": "light"
     },
     "output_type": "display_data"
    }
   ],
   "source": [
    "plt.plot(np.arange(len(losses)),thetas[:,1])"
   ]
  },
  {
   "cell_type": "code",
   "execution_count": 33,
   "metadata": {
    "scrolled": false
   },
   "outputs": [
    {
     "data": {
      "text/plain": [
       "0.9984609125672744"
      ]
     },
     "execution_count": 33,
     "metadata": {},
     "output_type": "execute_result"
    }
   ],
   "source": [
    "r2_score(y, predictions[-1])"
   ]
  },
  {
   "cell_type": "code",
   "execution_count": 34,
   "metadata": {},
   "outputs": [
    {
     "data": {
      "image/png": "[encoded data removed]",
      "text/plain": [
       "<Figure size 432x288 with 1 Axes>"
      ]
     },
     "metadata": {
      "needs_background": "light"
     },
     "output_type": "display_data"
    }
   ],
   "source": [
    "fig = plt.figure()\n",
    "ax = plt.axes()\n",
    "plt.xlabel('X')\n",
    "plt.ylabel('Y')\n",
    "x_plot = np.c_[np.ones(x.shape[0]), x] \n",
    "plt.scatter(x, y, color='red')\n",
    "line, = ax.plot([], [], lw=2)\n",
    "annotation = ax.text(-1, 700000, '')\n",
    "annotation.set_animated(True)\n",
    "y = np.dot(x_plot,thetas[-1])#theta[1]*x + theta[0]\n",
    "line.set_data(x, y)\n",
    "plt.show()"
   ]
  },
  {
   "cell_type": "markdown",
   "metadata": {},
   "source": [
    "# comparison"
   ]
  },
  {
   "cell_type": "code",
   "execution_count": 35,
   "metadata": {
    "id": "aAMKEzWSL8ab"
   },
   "outputs": [],
   "source": [
    "thetas1,losses1,predictions1 = adagrad(x,y,alpha=0.01,beta = 0.8,iterations=100000)"
   ]
  },
  {
   "cell_type": "code",
   "execution_count": 36,
   "metadata": {
    "id": "VVtNoeAdL8ac"
   },
   "outputs": [],
   "source": [
    "thetas2,losses2,predictions2 = rms_prob(x,y,alpha=0.005,beta=0.8,iterations=100000)"
   ]
  },
  {
   "cell_type": "code",
   "execution_count": 38,
   "metadata": {
    "id": "BGu3H5GRL8ad"
   },
   "outputs": [],
   "source": [
    "thetas3,losses3,predictions3 = adam(x,y,alpha=0.001,beta1=0.9,beta2 =0.99,iterations=100000)"
   ]
  },
  {
   "cell_type": "markdown",
   "metadata": {
    "id": "3dkyg5jhL8ad"
   },
   "source": [
    "## Congratulations \n",
    "![image.png](attachment:image.png)"
   ]
  },
  {
   "cell_type": "markdown",
   "metadata": {},
   "source": [
    "# adagrad loss , r2 score ,thetas vs loss"
   ]
  },
  {
   "cell_type": "code",
   "execution_count": 39,
   "metadata": {
    "id": "_DIPUqs_L8ag"
   },
   "outputs": [
    {
     "name": "stdout",
     "output_type": "stream",
     "text": [
      "0.999863912708323\n"
     ]
    },
    {
     "data": {
      "image/png": "[encoded data removed]",
      "text/plain": [
       "<Figure size 432x288 with 1 Axes>"
      ]
     },
     "metadata": {
      "needs_background": "light"
     },
     "output_type": "display_data"
    }
   ],
   "source": [
    "plt.plot(np.arange(len(losses1)),losses1)\n",
    "print(r2_score(y, predictions1[-1]))"
   ]
  },
  {
   "cell_type": "code",
   "execution_count": null,
   "metadata": {
    "id": "Du44pWzvL8aK",
    "scrolled": true
   },
   "outputs": [],
   "source": [
    "plt.plot(np.arange(len(losses1)),thetas1[:,0])"
   ]
  },
  {
   "cell_type": "code",
   "execution_count": 40,
   "metadata": {
    "id": "0AAePlg5L8aL"
   },
   "outputs": [
    {
     "data": {
      "text/plain": [
       "[<matplotlib.lines.Line2D at 0x20d4c7d0910>]"
      ]
     },
     "execution_count": 40,
     "metadata": {},
     "output_type": "execute_result"
    },
    {
     "data": {
      "image/png": "[encoded data removed]",
      "text/plain": [
       "<Figure size 432x288 with 1 Axes>"
      ]
     },
     "metadata": {
      "needs_background": "light"
     },
     "output_type": "display_data"
    }
   ],
   "source": [
    "plt.plot(np.arange(len(losses1)),thetas1[:,1])"
   ]
  },
  {
   "cell_type": "markdown",
   "metadata": {},
   "source": [
    "# rms prob loss, r2 score,thetas vs loss"
   ]
  },
  {
   "cell_type": "code",
   "execution_count": 41,
   "metadata": {},
   "outputs": [
    {
     "name": "stdout",
     "output_type": "stream",
     "text": [
      "0.9999700204779257\n"
     ]
    },
    {
     "data": {
      "image/png": "[encoded data removed]",
      "text/plain": [
       "<Figure size 432x288 with 1 Axes>"
      ]
     },
     "metadata": {
      "needs_background": "light"
     },
     "output_type": "display_data"
    }
   ],
   "source": [
    "plt.plot(np.arange(len(losses2)),losses2)\n",
    "print(r2_score(y, predictions2[-1]))"
   ]
  },
  {
   "cell_type": "code",
   "execution_count": 42,
   "metadata": {
    "id": "Du44pWzvL8aK"
   },
   "outputs": [
    {
     "data": {
      "text/plain": [
       "[<matplotlib.lines.Line2D at 0x20d38ee3340>]"
      ]
     },
     "execution_count": 42,
     "metadata": {},
     "output_type": "execute_result"
    },
    {
     "data": {
      "image/png": "[encoded data removed]",
      "text/plain": [
       "<Figure size 432x288 with 1 Axes>"
      ]
     },
     "metadata": {
      "needs_background": "light"
     },
     "output_type": "display_data"
    }
   ],
   "source": [
    "plt.plot(np.arange(len(losses2)),thetas2[:,0])"
   ]
  },
  {
   "cell_type": "code",
   "execution_count": 43,
   "metadata": {
    "id": "0AAePlg5L8aL"
   },
   "outputs": [
    {
     "data": {
      "text/plain": [
       "[<matplotlib.lines.Line2D at 0x20d3a58f580>]"
      ]
     },
     "execution_count": 43,
     "metadata": {},
     "output_type": "execute_result"
    },
    {
     "data": {
      "image/png": "[encoded data removed]",
      "text/plain": [
       "<Figure size 432x288 with 1 Axes>"
      ]
     },
     "metadata": {
      "needs_background": "light"
     },
     "output_type": "display_data"
    }
   ],
   "source": [
    "plt.plot(np.arange(len(losses2)),thetas2[:,1])"
   ]
  },
  {
   "cell_type": "markdown",
   "metadata": {},
   "source": [
    "# adam ,loss r2 score ,thetas vs loss"
   ]
  },
  {
   "cell_type": "code",
   "execution_count": 44,
   "metadata": {},
   "outputs": [
    {
     "name": "stdout",
     "output_type": "stream",
     "text": [
      "0.99836926187899\n"
     ]
    },
    {
     "data": {
      "image/png": "[encoded data removed]",
      "text/plain": [
       "<Figure size 432x288 with 1 Axes>"
      ]
     },
     "metadata": {
      "needs_background": "light"
     },
     "output_type": "display_data"
    }
   ],
   "source": [
    "plt.plot(np.arange(len(losses3)),losses3)\n",
    "print(r2_score(y, predictions3[-1]))"
   ]
  },
  {
   "cell_type": "code",
   "execution_count": 45,
   "metadata": {
    "id": "Du44pWzvL8aK"
   },
   "outputs": [
    {
     "data": {
      "text/plain": [
       "[<matplotlib.lines.Line2D at 0x20d3c283370>]"
      ]
     },
     "execution_count": 45,
     "metadata": {},
     "output_type": "execute_result"
    },
    {
     "data": {
      "image/png": "[encoded data removed]",
      "text/plain": [
       "<Figure size 432x288 with 1 Axes>"
      ]
     },
     "metadata": {
      "needs_background": "light"
     },
     "output_type": "display_data"
    }
   ],
   "source": [
    "plt.plot(np.arange(len(losses3)),thetas3[:,0])"
   ]
  },
  {
   "cell_type": "code",
   "execution_count": 46,
   "metadata": {
    "id": "0AAePlg5L8aL"
   },
   "outputs": [
    {
     "data": {
      "text/plain": [
       "[<matplotlib.lines.Line2D at 0x20d3d4bdcd0>]"
      ]
     },
     "execution_count": 46,
     "metadata": {},
     "output_type": "execute_result"
    },
    {
     "data": {
      "image/png": "[encoded data removed]",
      "text/plain": [
       "<Figure size 432x288 with 1 Axes>"
      ]
     },
     "metadata": {
      "needs_background": "light"
     },
     "output_type": "display_data"
    }
   ],
   "source": [
    "plt.plot(np.arange(len(losses3)),thetas3[:,1])"
   ]
  },
  {
   "cell_type": "code",
   "execution_count": null,
   "metadata": {},
   "outputs": [],
   "source": []
  }
 ],
 "metadata": {
  "colab": {
   "name": "Practical Session 4 Adagrad-RMSProp-Adam.ipynb",
   "provenance": []
  },
  "kernelspec": {
   "display_name": "Python 3",
   "language": "python",
   "name": "python3"
  },
  "language_info": {
   "codemirror_mode": {
    "name": "ipython",
    "version": 3
   },
   "file_extension": ".py",
   "mimetype": "text/x-python",
   "name": "python",
   "nbconvert_exporter": "python",
   "pygments_lexer": "ipython3",
   "version": "3.8.5"
  }
 },
 "nbformat": 4,
 "nbformat_minor": 1
}
