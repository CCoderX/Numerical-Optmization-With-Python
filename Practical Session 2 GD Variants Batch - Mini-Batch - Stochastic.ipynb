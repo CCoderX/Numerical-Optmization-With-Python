{
 "cells": [
  {
   "cell_type": "markdown",
   "metadata": {},
   "source": [
    "## Practical Work 2"
   ]
  },
  {
   "cell_type": "markdown",
   "metadata": {},
   "source": [
    "For this practical work, the student will have to develop a Python program that is able to implement the gradient descent variants (Batch/Mini-Batch/Stochastic) in order to achieve the linear regression of a set of datapoints."
   ]
  },
  {
   "cell_type": "markdown",
   "metadata": {},
   "source": [
    "#### Import numpy, matplotlib.pyplot and make it inline"
   ]
  },
  {
   "cell_type": "code",
   "execution_count": 1,
   "metadata": {},
   "outputs": [],
   "source": [
    "import numpy as np\n",
    "import matplotlib.pyplot as plt"
   ]
  },
  {
   "cell_type": "markdown",
   "metadata": {},
   "source": [
    "To have a dataset or set of data points, the student must generate a pair of arrays <b>X</b> and <b>y</b> with the values in <b>X</b> equally distributed between <b>0</b> and <b>20</b> and the values in <b>y</b> such that: \n",
    "<b>yi = a*xi + b (and a = -2, b = 1)</b>\n"
   ]
  },
  {
   "cell_type": "code",
   "execution_count": 2,
   "metadata": {},
   "outputs": [],
   "source": [
    "x = np.linspace(0,20,200)\n",
    "x_data = np.c_[np.ones(x.shape[0]), x]\n",
    "# x"
   ]
  },
  {
   "cell_type": "code",
   "execution_count": 3,
   "metadata": {},
   "outputs": [],
   "source": [
    "y = -2*x +1\n",
    "# y"
   ]
  },
  {
   "cell_type": "markdown",
   "metadata": {},
   "source": [
    "#### Use your code from practical session 1 and create a function to perform GD for single variable linear regression.\n",
    "#### The function should take the following input parameters:\n",
    "##### Input data (X), Target Labels (y), Learning Rate (alpha), Maximum number of iterations\n",
    "#### The function should return the following:\n",
    "##### All Theta_0 and Theta_1 values till converge, and equivellant Losses, all hypothesis output, and optimum values of Theta_0 and Theta_1\n",
    "#### Note: you can choose any suitable stop criteria."
   ]
  },
  {
   "cell_type": "code",
   "execution_count": 4,
   "metadata": {},
   "outputs": [],
   "source": [
    "def gradient(x,y,alpha=0.0148,iterations=1000):\n",
    "    theta  = [0,0]\n",
    "    losses = []\n",
    "    thetas=[]\n",
    "    gradient = 10\n",
    "    for i in range(iterations):\n",
    "        pred = np.dot(x,theta)\n",
    "        error = pred-y\n",
    "        losses.append( 1/(2*len(x)) * np.dot(error.T, error))\n",
    "        thetas.append(theta)\n",
    "        gradient = (1/len(x)) * np.dot(x.T, error)\n",
    "        theta -= (alpha * gradient)\n",
    "    return thetas,losses"
   ]
  },
  {
   "cell_type": "markdown",
   "metadata": {},
   "source": [
    "#### Try your function with any input parameterss of your choice."
   ]
  },
  {
   "cell_type": "code",
   "execution_count": 5,
   "metadata": {},
   "outputs": [],
   "source": [
    "thetas,losses = gradient(x_data,y)"
   ]
  },
  {
   "cell_type": "markdown",
   "metadata": {},
   "source": [
    "#### Calculate r2 score"
   ]
  },
  {
   "cell_type": "code",
   "execution_count": 6,
   "metadata": {},
   "outputs": [],
   "source": [
    "from sklearn.metrics import r2_score\n",
    "y_pred = np.dot(x_data,thetas[-1].T)"
   ]
  },
  {
   "cell_type": "code",
   "execution_count": 7,
   "metadata": {},
   "outputs": [
    {
     "data": {
      "text/plain": [
       "0.9999985442292576"
      ]
     },
     "execution_count": 7,
     "metadata": {},
     "output_type": "execute_result"
    }
   ],
   "source": [
    "r2_score(y, y_pred)"
   ]
  },
  {
   "cell_type": "markdown",
   "metadata": {},
   "source": [
    "#### Plot loss vs. epochs"
   ]
  },
  {
   "cell_type": "code",
   "execution_count": 8,
   "metadata": {},
   "outputs": [
    {
     "data": {
      "text/plain": [
       "<matplotlib.collections.PathCollection at 0x1c486cfa4f0>"
      ]
     },
     "execution_count": 8,
     "metadata": {},
     "output_type": "execute_result"
    },
    {
     "data": {
      "image/png": "[encoded data removed]",
      "text/plain": [
       "<Figure size 432x288 with 1 Axes>"
      ]
     },
     "metadata": {
      "needs_background": "light"
     },
     "output_type": "display_data"
    }
   ],
   "source": [
    "x_axis = np.arange(len(losses))\n",
    "plt.scatter(x_axis,losses)"
   ]
  },
  {
   "cell_type": "code",
   "execution_count": 9,
   "metadata": {},
   "outputs": [
    {
     "name": "stdout",
     "output_type": "stream",
     "text": [
      "0.9721232744410772\n",
      "-1.9978659522335172\n"
     ]
    }
   ],
   "source": [
    "_thetas= np.array(thetas)\n",
    "print(_thetas[-1,0])\n",
    "print(_thetas[-1,1])"
   ]
  },
  {
   "cell_type": "markdown",
   "metadata": {},
   "source": [
    "#### Plot Theta_0 vs. loss and Theta_1 vs. loss"
   ]
  },
  {
   "cell_type": "code",
   "execution_count": 10,
   "metadata": {},
   "outputs": [
    {
     "data": {
      "text/plain": [
       "[<matplotlib.lines.Line2D at 0x1c487d77850>]"
      ]
     },
     "execution_count": 10,
     "metadata": {},
     "output_type": "execute_result"
    },
    {
     "data": {
      "image/png": "[encoded data removed]",
      "text/plain": [
       "<Figure size 432x288 with 1 Axes>"
      ]
     },
     "metadata": {
      "needs_background": "light"
     },
     "output_type": "display_data"
    }
   ],
   "source": [
    "#theta0 vs loss\n",
    "plt.plot(_thetas[:,0],losses)"
   ]
  },
  {
   "cell_type": "code",
   "execution_count": 11,
   "metadata": {},
   "outputs": [
    {
     "data": {
      "text/plain": [
       "[<matplotlib.lines.Line2D at 0x1c487daf370>]"
      ]
     },
     "execution_count": 11,
     "metadata": {},
     "output_type": "execute_result"
    },
    {
     "data": {
      "image/png": "[encoded data removed]",
      "text/plain": [
       "<Figure size 432x288 with 1 Axes>"
      ]
     },
     "metadata": {
      "needs_background": "light"
     },
     "output_type": "display_data"
    }
   ],
   "source": [
    "#theta1 vs loss\n",
    "plt.plot(_thetas[:,1],losses)"
   ]
  },
  {
   "cell_type": "code",
   "execution_count": null,
   "metadata": {},
   "outputs": [],
   "source": []
  },
  {
   "cell_type": "markdown",
   "metadata": {},
   "source": [
    "#### Plot all regression lines till converge"
   ]
  },
  {
   "cell_type": "code",
   "execution_count": 12,
   "metadata": {},
   "outputs": [],
   "source": [
    "y_pred = np.dot(x_data,thetas[-1].T)\n",
    "# y_pred"
   ]
  },
  {
   "cell_type": "code",
   "execution_count": 13,
   "metadata": {},
   "outputs": [
    {
     "data": {
      "image/png": "[encoded data removed]",
      "text/plain": [
       "<Figure size 432x288 with 1 Axes>"
      ]
     },
     "metadata": {
      "needs_background": "light"
     },
     "output_type": "display_data"
    }
   ],
   "source": [
    "plt.plot(losses)\n",
    "plt.show()"
   ]
  },
  {
   "cell_type": "code",
   "execution_count": 14,
   "metadata": {},
   "outputs": [
    {
     "name": "stdout",
     "output_type": "stream",
     "text": [
      "0.9721232744410772\n",
      "-1.9978659522335172\n"
     ]
    }
   ],
   "source": [
    "print(thetas[-1][0])\n",
    "print(thetas[-1][1])"
   ]
  },
  {
   "cell_type": "code",
   "execution_count": 15,
   "metadata": {},
   "outputs": [
    {
     "name": "stderr",
     "output_type": "stream",
     "text": [
      "MovieWriter imagemagick unavailable; using Pillow instead.\n"
     ]
    }
   ],
   "source": [
    "import matplotlib.animation as animation\n",
    "fig = plt.figure()\n",
    "ax = plt.axes()\n",
    "plt.xlabel('X')\n",
    "plt.ylabel('Y')\n",
    "plt.scatter(x, y_pred, color='red')\n",
    "line, = ax.plot([], [], lw=2)\n",
    "annotation = ax.text(-1, 700000, '')\n",
    "annotation.set_animated(True)\n",
    "plt.close()\n",
    "\n",
    "#Generate the animation data,\n",
    "def init():\n",
    "    line.set_data([], [])\n",
    "    annotation.set_text('')\n",
    "    return line, annotation\n",
    "\n",
    "# animation function.  This is called sequentially\n",
    "def animate(i):\n",
    "    x_ = np.linspace(0, 20, len(x))\n",
    "    y_ = thetas[i*50][1]*x + thetas[i*50][0]\n",
    "    line.set_data(x_, y_)\n",
    "    annotation.set_text('Cost = %.2f e10' % (losses[i]))\n",
    "    return line, annotation\n",
    "\n",
    "anim = animation.FuncAnimation(fig, animate, init_func=init,\n",
    "                               frames=int(len(thetas)/50), interval=0, blit=True)\n",
    "\n",
    "anim.save('animation.gif', writer='imagemagick', fps = 10)"
   ]
  },
  {
   "cell_type": "code",
   "execution_count": 16,
   "metadata": {},
   "outputs": [
    {
     "data": {
      "text/html": [
       "<img src=\"data:image/gif;base64,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\" type=\"gif\" />"
      ],
      "text/plain": [
       "<IPython.core.display.HTML object>"
      ]
     },
     "execution_count": 16,
     "metadata": {},
     "output_type": "execute_result"
    }
   ],
   "source": [
    "#Display the animation...\n",
    "import io\n",
    "import base64\n",
    "from IPython.display import HTML\n",
    "\n",
    "filename = 'animation.gif'\n",
    "\n",
    "video = io.open(filename, 'r+b').read()\n",
    "encoded = base64.b64encode(video)\n",
    "HTML(data='''<img src=\"data:image/gif;base64,{0}\" type=\"gif\" />'''.format(encoded.decode('ascii')))\n"
   ]
  },
  {
   "cell_type": "markdown",
   "metadata": {},
   "source": [
    "#### Plot the best regression line"
   ]
  },
  {
   "cell_type": "code",
   "execution_count": 17,
   "metadata": {},
   "outputs": [
    {
     "data": {
      "image/png": "[encoded data removed]",
      "text/plain": [
       "<Figure size 432x288 with 1 Axes>"
      ]
     },
     "metadata": {
      "needs_background": "light"
     },
     "output_type": "display_data"
    }
   ],
   "source": [
    "fig = plt.figure()\n",
    "ax = plt.axes()\n",
    "plt.xlabel('X')\n",
    "plt.ylabel('Y')\n",
    "plt.scatter(x, y_pred, color='red')\n",
    "line, = ax.plot([], [], lw=2)\n",
    "annotation = ax.text(-1, 700000, '')\n",
    "annotation.set_animated(True)\n",
    "x_line = x#np.linspace(0, 5, 20)\n",
    "y_line = thetas[-1][1]*x_line + thetas[-1][0]\n",
    "line.set_data(x_line, y_line)\n",
    "plt.show()"
   ]
  },
  {
   "cell_type": "markdown",
   "metadata": {},
   "source": [
    "#### Update the implementation of the Batch GD to be Mini-Batch and rpeat the above plots and evaluations\n",
    "#### Change batch size and see the effect"
   ]
  },
  {
   "cell_type": "code",
   "execution_count": 18,
   "metadata": {},
   "outputs": [],
   "source": [
    "def gradient_mini_batch(x,y,alpha=0.0001,iterations=1000,batch_size =0 ):\n",
    "    if batch_size <= 0 or batch_size > len(x):\n",
    "        batch_size=len(x)\n",
    "#     print(batch_size)\n",
    "    theta  = [0,0]\n",
    "    losses = []\n",
    "    thetas=[]\n",
    "    _x=np.array(x)\n",
    "    _y=np.array(y)\n",
    "    for i in range(iterations):\n",
    "        for i1 in range(int(len(x)/batch_size)):\n",
    "            for i2 in range(batch_size):\n",
    "                tmp_x = _x[i1*batch_size:batch_size*(i1+1)]\n",
    "                tmp_y = _y[i1*batch_size:batch_size*(i1+1)]\n",
    "                if batch_size*(i1+1) < len(x):\n",
    "                    tmp_x = _x[i1*batch_size:]\n",
    "                    tmp_y = _y[i1*batch_size:]\n",
    "                    \n",
    "                pred = np.dot(tmp_x,theta)\n",
    "                error = pred-tmp_y\n",
    "                losses.append( 1/(2*len(tmp_x)) * np.dot(error.T, error))\n",
    "                thetas.append(theta)\n",
    "                theta -= (alpha * (1/len(tmp_x)) * np.dot(tmp_x.T, error)) \n",
    "    return thetas,losses"
   ]
  },
  {
   "cell_type": "markdown",
   "metadata": {},
   "source": [
    "### mini batch batch size 8"
   ]
  },
  {
   "cell_type": "code",
   "execution_count": 19,
   "metadata": {},
   "outputs": [],
   "source": [
    "thetas,losses = gradient_mini_batch(x_data,y,batch_size=8)\n",
    "_thetas=np.array(thetas)"
   ]
  },
  {
   "cell_type": "code",
   "execution_count": 20,
   "metadata": {},
   "outputs": [
    {
     "data": {
      "text/plain": [
       "[<matplotlib.lines.Line2D at 0x1c487e0c3d0>]"
      ]
     },
     "execution_count": 20,
     "metadata": {},
     "output_type": "execute_result"
    },
    {
     "data": {
      "image/png": "[encoded data removed]",
      "text/plain": [
       "<Figure size 432x288 with 1 Axes>"
      ]
     },
     "metadata": {
      "needs_background": "light"
     },
     "output_type": "display_data"
    }
   ],
   "source": [
    "#theta1 vs loss batch size 8\n",
    "plt.plot(_thetas[:,0],losses)"
   ]
  },
  {
   "cell_type": "code",
   "execution_count": 21,
   "metadata": {},
   "outputs": [
    {
     "data": {
      "text/plain": [
       "[<matplotlib.lines.Line2D at 0x1c488485ac0>]"
      ]
     },
     "execution_count": 21,
     "metadata": {},
     "output_type": "execute_result"
    },
    {
     "data": {
      "image/png": "[encoded data removed]",
      "text/plain": [
       "<Figure size 432x288 with 1 Axes>"
      ]
     },
     "metadata": {
      "needs_background": "light"
     },
     "output_type": "display_data"
    }
   ],
   "source": [
    "#theta2 vs loss batch size 8\n",
    "plt.plot(_thetas[:,1],losses)"
   ]
  },
  {
   "cell_type": "markdown",
   "metadata": {},
   "source": [
    "### mini batch batch size 16"
   ]
  },
  {
   "cell_type": "code",
   "execution_count": 22,
   "metadata": {},
   "outputs": [
    {
     "data": {
      "text/plain": [
       "[<matplotlib.lines.Line2D at 0x1c489e3eca0>]"
      ]
     },
     "execution_count": 22,
     "metadata": {},
     "output_type": "execute_result"
    },
    {
     "data": {
      "image/png": "[encoded data removed]",
      "text/plain": [
       "<Figure size 432x288 with 1 Axes>"
      ]
     },
     "metadata": {
      "needs_background": "light"
     },
     "output_type": "display_data"
    }
   ],
   "source": [
    "#theta1 vs loss batch size = 16\n",
    "thetas,losses = gradient_mini_batch(x_data,y,batch_size=16)\n",
    "_thetas=np.array(thetas)\n",
    "plt.plot(_thetas[:,0],losses)"
   ]
  },
  {
   "cell_type": "code",
   "execution_count": 23,
   "metadata": {},
   "outputs": [
    {
     "data": {
      "text/plain": [
       "[<matplotlib.lines.Line2D at 0x1c48357e340>]"
      ]
     },
     "execution_count": 23,
     "metadata": {},
     "output_type": "execute_result"
    },
    {
     "data": {
      "image/png": "[encoded data removed]",
      "text/plain": [
       "<Figure size 432x288 with 1 Axes>"
      ]
     },
     "metadata": {
      "needs_background": "light"
     },
     "output_type": "display_data"
    }
   ],
   "source": [
    "#theta2 vs loss batch size 16\n",
    "plt.plot(_thetas[:,1],losses)"
   ]
  },
  {
   "cell_type": "markdown",
   "metadata": {},
   "source": [
    "## Stochastic GD"
   ]
  },
  {
   "cell_type": "markdown",
   "metadata": {},
   "source": [
    "#### Update the implementation of the Batch GD to beStochastic and rpeat the above plots and evaluations\n",
    "#### You can try different learning rate and see its effect.\n",
    "#### Compare to Batch and Mini-Batch GD"
   ]
  },
  {
   "cell_type": "code",
   "execution_count": 24,
   "metadata": {},
   "outputs": [],
   "source": [
    "def stochastic_gradient(x,y,alpha=0.001,iterations=1000):\n",
    "    theta  = [0,0]\n",
    "    losses = []\n",
    "    thetas=[]\n",
    "    _x=np.array(x)\n",
    "    _y=np.array(y)\n",
    "    for i in range(iterations):\n",
    "        for sample in range(len(x)):\n",
    "            pred = theta[0] + x[sample]*theta[1]\n",
    "            error = pred-y[sample]\n",
    "            losses.append(error**2)\n",
    "            \n",
    "            thetas.append(theta)\n",
    "            theta = [(theta[0] - alpha*error) ,(theta[1] - alpha * x[sample]*error )]\n",
    "    return thetas,losses"
   ]
  },
  {
   "cell_type": "markdown",
   "metadata": {},
   "source": [
    "### Using stochastic gradient descent with learning rate = 0.001"
   ]
  },
  {
   "cell_type": "code",
   "execution_count": 25,
   "metadata": {},
   "outputs": [
    {
     "data": {
      "text/plain": [
       "[<matplotlib.lines.Line2D at 0x1c487ec2a90>]"
      ]
     },
     "execution_count": 25,
     "metadata": {},
     "output_type": "execute_result"
    },
    {
     "data": {
      "image/png": "[encoded data removed]",
      "text/plain": [
       "<Figure size 432x288 with 1 Axes>"
      ]
     },
     "metadata": {
      "needs_background": "light"
     },
     "output_type": "display_data"
    }
   ],
   "source": [
    "#theta1 vs loss\n",
    "thetas,losses = stochastic_gradient(x,y)\n",
    "_thetas=np.array(thetas)\n",
    "plt.plot(_thetas[:,0],losses)"
   ]
  },
  {
   "cell_type": "code",
   "execution_count": 26,
   "metadata": {},
   "outputs": [
    {
     "data": {
      "text/plain": [
       "[<matplotlib.lines.Line2D at 0x1c487e35a60>]"
      ]
     },
     "execution_count": 26,
     "metadata": {},
     "output_type": "execute_result"
    },
    {
     "data": {
      "image/png": "[encoded data removed]",
      "text/plain": [
       "<Figure size 432x288 with 1 Axes>"
      ]
     },
     "metadata": {
      "needs_background": "light"
     },
     "output_type": "display_data"
    }
   ],
   "source": [
    "#stochastic gradient descent\n",
    "#theta1 vs loss\n",
    "_thetas=np.array(thetas)\n",
    "plt.plot(_thetas[:,1],losses)"
   ]
  },
  {
   "cell_type": "code",
   "execution_count": null,
   "metadata": {},
   "outputs": [],
   "source": [
    "fig = plt.figure()\n",
    "ax = plt.axes()\n",
    "plt.xlabel('X')\n",
    "plt.ylabel('Y')\n",
    "plt.scatter(x, y_pred, color='red')\n",
    "line, = ax.plot([], [], lw=2)\n",
    "annotation = ax.text(-1, 700000, '')\n",
    "annotation.set_animated(True)\n",
    "x_line = x#np.linspace(0, 5, 20)\n",
    "y_line = thetas[-1][1]*x_line + thetas[-1][0]\n",
    "line.set_data(x_line, y_line)\n",
    "plt.show()"
   ]
  },
  {
   "cell_type": "markdown",
   "metadata": {},
   "source": [
    "### Using stochastic gradient descent with learning rate = 0.002"
   ]
  },
  {
   "cell_type": "code",
   "execution_count": null,
   "metadata": {},
   "outputs": [],
   "source": [
    "\n",
    "#theta1 vs loss\n",
    "thetas,losses = stochastic_gradient(x,y,alpha=0.002)\n",
    "_thetas=np.array(thetas)\n",
    "plt.plot(_thetas[:,0],losses)"
   ]
  },
  {
   "cell_type": "code",
   "execution_count": null,
   "metadata": {},
   "outputs": [],
   "source": [
    "#stochastic gradient descent\n",
    "#theta1 vs loss\n",
    "_thetas=np.array(thetas)\n",
    "plt.plot(_thetas[:,1],losses)"
   ]
  },
  {
   "cell_type": "code",
   "execution_count": null,
   "metadata": {},
   "outputs": [],
   "source": [
    "fig = plt.figure()\n",
    "ax = plt.axes()\n",
    "plt.xlabel('X')\n",
    "plt.ylabel('Y')\n",
    "plt.scatter(x, y_pred, color='red')\n",
    "line, = ax.plot([], [], lw=2)\n",
    "annotation = ax.text(-1, 700000, '')\n",
    "annotation.set_animated(True)\n",
    "x_line = x#np.linspace(0, 5, 20)\n",
    "y_line = thetas[-1][1]*x_line + thetas[-1][0]\n",
    "line.set_data(x_line, y_line)\n",
    "plt.show()"
   ]
  },
  {
   "cell_type": "markdown",
   "metadata": {},
   "source": [
    "### Using stochastic gradient descent with learning rate = 0.005"
   ]
  },
  {
   "cell_type": "code",
   "execution_count": null,
   "metadata": {},
   "outputs": [],
   "source": [
    "#using batch size = 1 will lead = stochastic gradient descent , learning rate = 0.005\n",
    "#theta1 vs loss\n",
    "thetas,losses = stochastic_gradient(x,y,alpha=0.005)\n",
    "_thetas=np.array(thetas)\n",
    "plt.plot(_thetas[:,0],losses)"
   ]
  },
  {
   "cell_type": "code",
   "execution_count": null,
   "metadata": {},
   "outputs": [],
   "source": [
    "#stochastic gradient descent\n",
    "#theta1 vs loss\n",
    "_thetas=np.array(thetas)\n",
    "plt.plot(_thetas[:,1],losses)"
   ]
  },
  {
   "cell_type": "code",
   "execution_count": null,
   "metadata": {},
   "outputs": [],
   "source": [
    "fig = plt.figure()\n",
    "ax = plt.axes()\n",
    "plt.xlabel('X')\n",
    "plt.ylabel('Y')\n",
    "plt.scatter(x, y_pred, color='red')\n",
    "line, = ax.plot([], [], lw=2)\n",
    "annotation = ax.text(-1, 700000, '')\n",
    "annotation.set_animated(True)\n",
    "x_line = x#np.linspace(0, 5, 20)\n",
    "y_line = thetas[-1][1]*x_line + thetas[-1][0]\n",
    "line.set_data(x_line, y_line)\n",
    "plt.show()"
   ]
  },
  {
   "cell_type": "markdown",
   "metadata": {},
   "source": [
    "### Using stochastic gradient descent with learning rate = 0.009"
   ]
  },
  {
   "cell_type": "code",
   "execution_count": null,
   "metadata": {},
   "outputs": [],
   "source": [
    "#theta1 vs loss\n",
    "thetas,losses = stochastic_gradient(x,y,alpha=0.009)\n",
    "_thetas=np.array(thetas)\n",
    "plt.plot(_thetas[:,0],losses)"
   ]
  },
  {
   "cell_type": "code",
   "execution_count": null,
   "metadata": {},
   "outputs": [],
   "source": [
    "#stochastic gradient descent\n",
    "#theta1 vs loss\n",
    "_thetas=np.array(thetas)\n",
    "plt.plot(_thetas[:,1],losses)"
   ]
  },
  {
   "cell_type": "code",
   "execution_count": null,
   "metadata": {},
   "outputs": [],
   "source": [
    "fig = plt.figure()\n",
    "ax = plt.axes()\n",
    "plt.xlabel('X')\n",
    "plt.ylabel('Y')\n",
    "plt.scatter(x, y_pred, color='red')\n",
    "line, = ax.plot([], [], lw=2)\n",
    "annotation = ax.text(-1, 700000, '')\n",
    "annotation.set_animated(True)\n",
    "x_line = x#np.linspace(0, 5, 20)\n",
    "y_line = thetas[-1][1]*x_line + thetas[-1][0]\n",
    "line.set_data(x_line, y_line)\n",
    "plt.show()"
   ]
  },
  {
   "cell_type": "markdown",
   "metadata": {},
   "source": [
    "### Using stochastic gradient descent with learning rate = 0.01 will oscilate"
   ]
  },
  {
   "cell_type": "code",
   "execution_count": null,
   "metadata": {},
   "outputs": [],
   "source": [
    "#theta1 vs loss\n",
    "thetas,losses = stochastic_gradient(x,y,alpha=0.01)\n",
    "_thetas=np.array(thetas)\n",
    "plt.plot(_thetas[:,0],losses)"
   ]
  },
  {
   "cell_type": "code",
   "execution_count": null,
   "metadata": {},
   "outputs": [],
   "source": [
    "#stochastic gradient descent\n",
    "#theta1 vs loss\n",
    "_thetas=np.array(thetas)\n",
    "plt.plot(_thetas[:,1],losses)"
   ]
  },
  {
   "cell_type": "code",
   "execution_count": null,
   "metadata": {},
   "outputs": [],
   "source": [
    "fig = plt.figure()\n",
    "ax = plt.axes()\n",
    "plt.xlabel('X')\n",
    "plt.ylabel('Y')\n",
    "plt.scatter(x, y_pred, color='red')\n",
    "line, = ax.plot([], [], lw=2)\n",
    "annotation = ax.text(-1, 700000, '')\n",
    "annotation.set_animated(True)\n",
    "x_line = x#np.linspace(0, 5, 20)\n",
    "y_line = thetas[-1][1]*x_line + thetas[-1][0]\n",
    "line.set_data(x_line, y_line)\n",
    "plt.show()"
   ]
  }
 ],
 "metadata": {
  "kernelspec": {
   "display_name": "Python 3",
   "language": "python",
   "name": "python3"
  },
  "language_info": {
   "codemirror_mode": {
    "name": "ipython",
    "version": 3
   },
   "file_extension": ".py",
   "mimetype": "text/x-python",
   "name": "python",
   "nbconvert_exporter": "python",
   "pygments_lexer": "ipython3",
   "version": "3.8.5"
  }
 },
 "nbformat": 4,
 "nbformat_minor": 4
}
